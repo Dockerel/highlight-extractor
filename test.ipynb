{
 "cells": [
  {
   "cell_type": "code",
   "execution_count": 34,
   "metadata": {},
   "outputs": [],
   "source": [
    "import os\n",
    "from pytubefix import YouTube\n",
    "from pytubefix.cli import on_progress\n",
    "import uuid"
   ]
  },
  {
   "cell_type": "code",
   "execution_count": 35,
   "metadata": {},
   "outputs": [
    {
     "name": "stdout",
     "output_type": "stream",
     "text": [
      "무의 제왕 최강록.. 또 무 가지고 뭘 만드거냐 ㅎㄷㄷ #흑백요리사 #넷플릭스 #예능 #쇼츠 #shorts  #최강록 #조림핑\n",
      " ↳ |████████████████████████████████████████████| 100.0%\r"
     ]
    }
   ],
   "source": [
    "url = \"https://www.youtube.com/shorts/4RMEJSpMMbw\"\n",
    "\n",
    "yt = YouTube(url, on_progress_callback = on_progress)\n",
    "print(yt.title)\n",
    " \n",
    "ys = yt.streams.get_highest_resolution()\n",
    "video = ys.download()"
   ]
  },
  {
   "cell_type": "code",
   "execution_count": 36,
   "metadata": {},
   "outputs": [
    {
     "name": "stdout",
     "output_type": "stream",
     "text": [
      "title: 무의 제왕 최강록.. 또 무 가지고 뭘 만드거냐 ㅎㄷㄷ #흑백요리사 #넷플릭스 #예능 #쇼츠 #shorts  #최강록 #조림핑\n",
      "views : 10338\n",
      "description: 무의 제왕 최강록.. 또 무 가지고 뭘 만드거냐 ㅎㄷㄷ #흑백요리사 #넷플릭스 #예능 #쇼츠 #shorts  #최강록 #조림핑\n",
      "\n",
      "원본은 넷플릭스 흑백요리사를 시청하세요\n",
      "length: 52\n"
     ]
    }
   ],
   "source": [
    "print(f\"title: {yt.title}\")\n",
    "print(f\"views : {yt.views}\")\n",
    "print(f\"description: {yt.description}\")\n",
    "print(f\"length: {yt.length}\")"
   ]
  },
  {
   "cell_type": "code",
   "execution_count": 37,
   "metadata": {},
   "outputs": [
    {
     "name": "stdout",
     "output_type": "stream",
     "text": [
      "328ce1b4-e378-4a34-b130-916bb855160b\n"
     ]
    }
   ],
   "source": [
    "# rename the mp4 to the title of the video without a file extension\n",
    "unique_id = str(uuid.uuid4())\n",
    "print(unique_id)\n",
    "os.rename(video, unique_id)"
   ]
  },
  {
   "cell_type": "code",
   "execution_count": 38,
   "metadata": {},
   "outputs": [],
   "source": [
    "# extract audio from the video\n",
    "import time\n",
    "import math\n",
    "import ffmpeg\n",
    "\n",
    "def extract_audio(input_file):\n",
    "    extracted_audio = f\"audio-{input_file}.wav\"\n",
    "    stream = ffmpeg.input(input_file)\n",
    "    stream = ffmpeg.output(stream, extracted_audio)\n",
    "    ffmpeg.run(stream, overwrite_output=True)\n",
    "    return extracted_audio"
   ]
  },
  {
   "cell_type": "code",
   "execution_count": 39,
   "metadata": {},
   "outputs": [
    {
     "data": {
      "text/plain": [
       "'audio-328ce1b4-e378-4a34-b130-916bb855160b.wav'"
      ]
     },
     "execution_count": 39,
     "metadata": {},
     "output_type": "execute_result"
    }
   ],
   "source": [
    "audio_extract = extract_audio(unique_id)\n",
    "audio_extract"
   ]
  },
  {
   "cell_type": "code",
   "execution_count": 40,
   "metadata": {},
   "outputs": [],
   "source": [
    "# transcribe the audio\n",
    "from faster_whisper import WhisperModel\n",
    "def transcribe(audio):\n",
    "\n",
    "    model = WhisperModel(\"medium\", device=\"cpu\")\n",
    "    segments, info = model.transcribe(audio)\n",
    "    language = info[0]\n",
    "    print(f\"transcription language: {language}\")\n",
    "    segments = list(segments) # this is where the transcribe happens\n",
    "\n",
    "    for segment in segments:\n",
    "        print(\"[%.2fs -> %.2fs] %s\" % (segment.start, segment.end, segment.text))\n",
    "\n",
    "    return language, segments"
   ]
  },
  {
   "cell_type": "code",
   "execution_count": 41,
   "metadata": {},
   "outputs": [
    {
     "name": "stdout",
     "output_type": "stream",
     "text": [
      "transcription language: ko\n",
      "[0.00s -> 0.80s]  자신감인가?\n",
      "[0.80s -> 2.06s]  자신감이든 아니면은\n",
      "[2.06s -> 2.80s]  에라 모르겠다?\n",
      "[2.80s -> 3.36s]  나야.\n",
      "[3.36s -> 4.90s]  안녕하십니까. 최강국입니다.\n",
      "[4.90s -> 5.80s]  똑같습니다.\n",
      "[5.80s -> 6.86s]  오늘이 마지막인 거예요.\n",
      "[6.86s -> 7.90s]  냉정하시잖아요, 다들.\n",
      "[9.00s -> 10.42s]  그거는 냄비밖에 없고\n",
      "[10.42s -> 11.66s]  냄비, 도마.\n",
      "[11.66s -> 12.96s]  요즘은 장비빨이거든요.\n",
      "[12.96s -> 14.32s]  근데 장비가 있어야 되거든요.\n",
      "[14.32s -> 15.16s]  좀 초라하더라고요.\n",
      "[15.16s -> 16.16s]  떨어질 수도 있죠.\n",
      "[16.16s -> 17.36s]  언제 가도 괜찮잖아요.\n",
      "[17.36s -> 18.62s]  떨어지면 한 1년 동안\n",
      "[18.62s -> 19.96s]  인터넷을 안 하면 되거든요.\n",
      "[19.96s -> 21.42s]  MPC가 되지 말자.\n",
      "[21.42s -> 21.92s]  나야.\n",
      "[21.92s -> 23.46s]  이게 무라는 것을\n",
      "[23.46s -> 24.80s]  푹 졸여졌을 때\n",
      "[24.80s -> 26.70s]  굉장히 엄마가 해주는\n",
      "[26.70s -> 28.82s]  그런 느낌이 있어요, 딱 먹었을 때.\n",
      "[28.82s -> 29.76s]  저는 아빠지만\n",
      "[29.76s -> 31.86s]  간이 살짝 들은 무를\n",
      "[31.86s -> 33.36s]  들기름에 구워요.\n",
      "[33.36s -> 34.82s]  곁들임이 부족하니까\n",
      "[34.82s -> 37.32s]  굴 들기름에다 졸여버리는 거죠.\n",
      "[37.32s -> 39.72s]  육수 대신에 들기름을 많이 넣고\n",
      "[39.72s -> 40.52s]  거기서 졸여보자.\n",
      "[40.52s -> 42.32s]  무 먹다가 굴 먹으면 포인트.\n",
      "[42.32s -> 43.42s]  코에다가 좀 대주세요.\n",
      "[43.42s -> 45.02s]  들기름에 식감이 있어요, 뭐가 있어요.\n",
      "[45.02s -> 46.52s]  와, 이거 무슨 결승도 아닌데.\n",
      "[46.52s -> 47.62s]  이거 이렇게. 오르지 향이잖아.\n",
      "[47.62s -> 49.22s]  이거 사람 미쳐요.\n",
      "[49.22s -> 50.22s]  듣고 있으면.\n",
      "[50.22s -> 50.72s]  응?\n",
      "CPU times: total: 4min 35s\n",
      "Wall time: 1min 11s\n"
     ]
    }
   ],
   "source": [
    "%%time\n",
    "\n",
    "language, segments = transcribe(audio_extract)"
   ]
  },
  {
   "cell_type": "code",
   "execution_count": 42,
   "metadata": {},
   "outputs": [
    {
     "name": "stdout",
     "output_type": "stream",
     "text": [
      "[0.00s -> 0.80s]  자신감인가?\n",
      "[0.80s -> 2.06s]  자신감이든 아니면은\n",
      "[2.06s -> 2.80s]  에라 모르겠다?\n",
      "[2.80s -> 3.36s]  나야.\n",
      "[3.36s -> 4.90s]  안녕하십니까. 최강국입니다.\n",
      "[4.90s -> 5.80s]  똑같습니다.\n",
      "[5.80s -> 6.86s]  오늘이 마지막인 거예요.\n",
      "[6.86s -> 7.90s]  냉정하시잖아요, 다들.\n",
      "[9.00s -> 10.42s]  그거는 냄비밖에 없고\n",
      "[10.42s -> 11.66s]  냄비, 도마.\n",
      "[11.66s -> 12.96s]  요즘은 장비빨이거든요.\n",
      "[12.96s -> 14.32s]  근데 장비가 있어야 되거든요.\n",
      "[14.32s -> 15.16s]  좀 초라하더라고요.\n",
      "[15.16s -> 16.16s]  떨어질 수도 있죠.\n",
      "[16.16s -> 17.36s]  언제 가도 괜찮잖아요.\n",
      "[17.36s -> 18.62s]  떨어지면 한 1년 동안\n",
      "[18.62s -> 19.96s]  인터넷을 안 하면 되거든요.\n",
      "[19.96s -> 21.42s]  MPC가 되지 말자.\n",
      "[21.42s -> 21.92s]  나야.\n",
      "[21.92s -> 23.46s]  이게 무라는 것을\n",
      "[23.46s -> 24.80s]  푹 졸여졌을 때\n",
      "[24.80s -> 26.70s]  굉장히 엄마가 해주는\n",
      "[26.70s -> 28.82s]  그런 느낌이 있어요, 딱 먹었을 때.\n",
      "[28.82s -> 29.76s]  저는 아빠지만\n",
      "[29.76s -> 31.86s]  간이 살짝 들은 무를\n",
      "[31.86s -> 33.36s]  들기름에 구워요.\n",
      "[33.36s -> 34.82s]  곁들임이 부족하니까\n",
      "[34.82s -> 37.32s]  굴 들기름에다 졸여버리는 거죠.\n",
      "[37.32s -> 39.72s]  육수 대신에 들기름을 많이 넣고\n",
      "[39.72s -> 40.52s]  거기서 졸여보자.\n",
      "[40.52s -> 42.32s]  무 먹다가 굴 먹으면 포인트.\n",
      "[42.32s -> 43.42s]  코에다가 좀 대주세요.\n",
      "[43.42s -> 45.02s]  들기름에 식감이 있어요, 뭐가 있어요.\n",
      "[45.02s -> 46.52s]  와, 이거 무슨 결승도 아닌데.\n",
      "[46.52s -> 47.62s]  이거 이렇게. 오르지 향이잖아.\n",
      "[47.62s -> 49.22s]  이거 사람 미쳐요.\n",
      "[49.22s -> 50.22s]  듣고 있으면.\n",
      "[50.22s -> 50.72s]  응?\n"
     ]
    }
   ],
   "source": [
    "for segment in segments:\n",
    "        print(\"[%.2fs -> %.2fs] %s\" % (segment.start, segment.end, segment.text))"
   ]
  },
  {
   "cell_type": "code",
   "execution_count": 43,
   "metadata": {},
   "outputs": [],
   "source": [
    "# SubRip(SRT)\n",
    "# Subtitle Index: 0, 1, 2\n",
    "# Timecode: Start and end markers. HH:MM:SS,sss format.\n",
    "# Text: The subtitle text."
   ]
  },
  {
   "cell_type": "code",
   "execution_count": 44,
   "metadata": {},
   "outputs": [],
   "source": [
    "# this is a helper function that takes time in seconds and\n",
    "# converts it into HH:MM:SS,sss format for the SRT subtitle files.\n",
    "\n",
    "def format_time_for_srt(seconds):\n",
    "    hours = math.floor(seconds / 3600)\n",
    "    seconds %= 3600\n",
    "    minutes = math.floor(seconds / 60)\n",
    "    seconds %= 60\n",
    "    miliseconds = round((seconds - math.floor(seconds)) * 1000)\n",
    "    seconds=math.floor(seconds)\n",
    "    formatted_time = f\"{hours :02d}:{minutes :02d}:{seconds :02d},{miliseconds :03d}\"\n",
    "\n",
    "    return formatted_time"
   ]
  },
  {
   "cell_type": "code",
   "execution_count": 45,
   "metadata": {},
   "outputs": [],
   "source": [
    "def generate_subtitle_file(input_file, language, segments):\n",
    "    subtitle_file = f\"sub-{input_file}.{language}.srt\"\n",
    "    text = \"\"\n",
    "    for index, segment in enumerate(segments):\n",
    "        segment_start = format_time_for_srt(segment.start)\n",
    "        segment_end = format_time_for_srt(segment.end)\n",
    "\n",
    "        text += f\"{str(index + 1)}\\n\"\n",
    "        text += f\"{segment_start} --> {segment_end}\\n\"\n",
    "        text += f\"{segment.text}\\n\\n\"\n",
    "\n",
    "    # UTF-8 인코딩으로 파일을 열기\n",
    "    with open(subtitle_file, 'w', encoding='utf-8') as f:\n",
    "        f.write(text)\n",
    "\n",
    "    return subtitle_file"
   ]
  },
  {
   "cell_type": "code",
   "execution_count": 46,
   "metadata": {},
   "outputs": [],
   "source": [
    "subtitle_file = generate_subtitle_file(unique_id, language, segments)"
   ]
  },
  {
   "cell_type": "code",
   "execution_count": 47,
   "metadata": {},
   "outputs": [],
   "source": [
    "def add_subtitle_to_video(input_file, subtitle_file, subtitle_language):\n",
    "    video_input_stream = ffmpeg.input(input_file)\n",
    "    subtitle_input_stream = ffmpeg.input(subtitle_file)\n",
    "    output_video = f\"output-{input_file}-{subtitle_language}.mp4\"\n",
    "    subtitle_track_title = subtitle_file.replace(\".srt\", \"\")\n",
    "    stream = ffmpeg.output(video_input_stream, output_video,\n",
    "                           vf = f\"subtitles='{subtitle_file}'\")\n",
    "    ffmpeg.run(stream, overwrite_output=True)"
   ]
  },
  {
   "cell_type": "code",
   "execution_count": 48,
   "metadata": {},
   "outputs": [],
   "source": [
    "add_subtitle_to_video(unique_id, subtitle_file, language)"
   ]
  },
  {
   "cell_type": "code",
   "execution_count": 49,
   "metadata": {},
   "outputs": [],
   "source": [
    "os.remove(f\"audio-{unique_id}.wav\")\n",
    "os.remove(f\"sub-{unique_id}.{language}.srt\")\n",
    "os.remove(f\"{unique_id}\")"
   ]
  },
  {
   "cell_type": "code",
   "execution_count": null,
   "metadata": {},
   "outputs": [],
   "source": []
  }
 ],
 "metadata": {
  "kernelspec": {
   "display_name": ".venv",
   "language": "python",
   "name": "python3"
  },
  "language_info": {
   "codemirror_mode": {
    "name": "ipython",
    "version": 3
   },
   "file_extension": ".py",
   "mimetype": "text/x-python",
   "name": "python",
   "nbconvert_exporter": "python",
   "pygments_lexer": "ipython3",
   "version": "3.10.11"
  }
 },
 "nbformat": 4,
 "nbformat_minor": 2
}
