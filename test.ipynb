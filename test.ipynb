{
 "cells": [
  {
   "cell_type": "code",
   "execution_count": 28,
   "metadata": {},
   "outputs": [],
   "source": [
    "import os\n",
    "from pytubefix import YouTube\n",
    "from pytubefix.cli import on_progress\n",
    "import uuid"
   ]
  },
  {
   "cell_type": "code",
   "execution_count": 29,
   "metadata": {},
   "outputs": [
    {
     "name": "stdout",
     "output_type": "stream",
     "text": [
      "늘 기회를 놓치는 사람의 특징\n",
      " ↳ |████████████████████████████████████████████| 100.0%\r"
     ]
    }
   ],
   "source": [
    "url = \"https://www.youtube.com/shorts/4RMEJSpMMbw\"\n",
    "\n",
    "yt = YouTube(url, on_progress_callback = on_progress)\n",
    "print(yt.title)\n",
    " \n",
    "ys = yt.streams.get_highest_resolution()\n",
    "video = ys.download()"
   ]
  },
  {
   "cell_type": "code",
   "execution_count": 30,
   "metadata": {},
   "outputs": [
    {
     "name": "stdout",
     "output_type": "stream",
     "text": [
      "title: 늘 기회를 놓치는 사람의 특징\n",
      "views : 133881\n",
      "description: \n",
      "length: 59\n"
     ]
    }
   ],
   "source": [
    "print(f\"title: {yt.title}\")\n",
    "print(f\"views : {yt.views}\")\n",
    "print(f\"description: {yt.description}\")\n",
    "print(f\"length: {yt.length}\")"
   ]
  },
  {
   "cell_type": "code",
   "execution_count": 31,
   "metadata": {},
   "outputs": [
    {
     "name": "stdout",
     "output_type": "stream",
     "text": [
      "de60447c-1169-462c-8ae3-59d12e7f68ad\n"
     ]
    }
   ],
   "source": [
    "# rename the mp4 to the title of the video without a file extension\n",
    "unique_id = str(uuid.uuid4())\n",
    "print(unique_id)\n",
    "os.rename(video, unique_id)"
   ]
  },
  {
   "cell_type": "code",
   "execution_count": 32,
   "metadata": {},
   "outputs": [],
   "source": [
    "# extract audio from the video\n",
    "import time\n",
    "import math\n",
    "import ffmpeg\n",
    "\n",
    "def extract_audio(input_file):\n",
    "    extracted_audio = f\"audio-{input_file}.wav\"\n",
    "    stream = ffmpeg.input(input_file)\n",
    "    stream = ffmpeg.output(stream, extracted_audio)\n",
    "    ffmpeg.run(stream, overwrite_output=True)\n",
    "    return extracted_audio"
   ]
  },
  {
   "cell_type": "code",
   "execution_count": 33,
   "metadata": {},
   "outputs": [
    {
     "data": {
      "text/plain": [
       "'audio-de60447c-1169-462c-8ae3-59d12e7f68ad.wav'"
      ]
     },
     "execution_count": 33,
     "metadata": {},
     "output_type": "execute_result"
    }
   ],
   "source": [
    "audio_extract = extract_audio(unique_id)\n",
    "audio_extract"
   ]
  },
  {
   "cell_type": "code",
   "execution_count": 7,
   "metadata": {},
   "outputs": [
    {
     "name": "stderr",
     "output_type": "stream",
     "text": [
      "c:\\Users\\dgh00\\OneDrive\\바탕 화면\\whisper\\.venv\\lib\\site-packages\\tqdm\\auto.py:21: TqdmWarning: IProgress not found. Please update jupyter and ipywidgets. See https://ipywidgets.readthedocs.io/en/stable/user_install.html\n",
      "  from .autonotebook import tqdm as notebook_tqdm\n"
     ]
    }
   ],
   "source": [
    "# transcribe the audio\n",
    "from faster_whisper import WhisperModel\n",
    "def transcribe(audio):\n",
    "\n",
    "    model = WhisperModel(\"medium\", device=\"cpu\")\n",
    "    segments, info = model.transcribe(audio)\n",
    "    language = info[0]\n",
    "    print(f\"transcription language: {language}\")\n",
    "    segments = list(segments) # this is where the transcribe happens\n",
    "\n",
    "    for segment in segments:\n",
    "        print(\"[%.2fs -> %.2fs] %s\" % (segment.start, segment.end, segment.text))\n",
    "\n",
    "    return language, segments"
   ]
  },
  {
   "cell_type": "code",
   "execution_count": 8,
   "metadata": {},
   "outputs": [
    {
     "name": "stdout",
     "output_type": "stream",
     "text": [
      "transcription language: ko\n",
      "[0.00s -> 3.52s]  분명 내가 꿈꾸던 상황이 있었는데\n",
      "[3.52s -> 6.28s]  현실이 그와 조화를 이루지 못할 때\n",
      "[6.28s -> 7.92s]  이미 버스는 떠났어, 병신아\n",
      "[7.92s -> 10.12s]  그니까 내가 잘해보라 했을 때 좀 잘하지\n",
      "[10.12s -> 14.96s]  다시 말해, 인지부조화 상태에 빠지면 우리 인간은\n",
      "[14.96s -> 17.20s]  근데 사실 나도 그렇게까지 진심은 아니었는데\n",
      "[26.36s -> 29.28s]  아니, 내가 이사님한테 부탁해서 어떻게 잡은 오디션인데\n",
      "[29.28s -> 31.40s]  도대체 왜 안 보겠다는 거야?\n",
      "[31.40s -> 32.88s]  그냥 좀 지치네\n",
      "[32.88s -> 34.88s]  제발 정신 좀 차려, 병신아\n",
      "[34.88s -> 37.08s]  너는 언제까지 네 인생이 너 없이 흘러가는 걸\n",
      "[37.08s -> 38.68s]  그렇게 구경만 하고 있을 건데?\n",
      "[47.12s -> 49.00s]  저기요, 기사님 기사님 제발\n",
      "CPU times: total: 3min 20s\n",
      "Wall time: 57.1 s\n"
     ]
    }
   ],
   "source": [
    "%%time\n",
    "\n",
    "language, segments = transcribe(audio_extract)"
   ]
  },
  {
   "cell_type": "code",
   "execution_count": 9,
   "metadata": {},
   "outputs": [
    {
     "name": "stdout",
     "output_type": "stream",
     "text": [
      "[0.00s -> 3.52s]  분명 내가 꿈꾸던 상황이 있었는데\n",
      "[3.52s -> 6.28s]  현실이 그와 조화를 이루지 못할 때\n",
      "[6.28s -> 7.92s]  이미 버스는 떠났어, 병신아\n",
      "[7.92s -> 10.12s]  그니까 내가 잘해보라 했을 때 좀 잘하지\n",
      "[10.12s -> 14.96s]  다시 말해, 인지부조화 상태에 빠지면 우리 인간은\n",
      "[14.96s -> 17.20s]  근데 사실 나도 그렇게까지 진심은 아니었는데\n",
      "[26.36s -> 29.28s]  아니, 내가 이사님한테 부탁해서 어떻게 잡은 오디션인데\n",
      "[29.28s -> 31.40s]  도대체 왜 안 보겠다는 거야?\n",
      "[31.40s -> 32.88s]  그냥 좀 지치네\n",
      "[32.88s -> 34.88s]  제발 정신 좀 차려, 병신아\n",
      "[34.88s -> 37.08s]  너는 언제까지 네 인생이 너 없이 흘러가는 걸\n",
      "[37.08s -> 38.68s]  그렇게 구경만 하고 있을 건데?\n",
      "[47.12s -> 49.00s]  저기요, 기사님 기사님 제발\n"
     ]
    }
   ],
   "source": [
    "for segment in segments:\n",
    "        print(\"[%.2fs -> %.2fs] %s\" % (segment.start, segment.end, segment.text))"
   ]
  },
  {
   "cell_type": "code",
   "execution_count": 10,
   "metadata": {},
   "outputs": [],
   "source": [
    "# SubRip(SRT)\n",
    "# Subtitle Index: 0, 1, 2\n",
    "# Timecode: Start and end markers. HH:MM:SS,sss format.\n",
    "# Text: The subtitle text."
   ]
  },
  {
   "cell_type": "code",
   "execution_count": 11,
   "metadata": {},
   "outputs": [],
   "source": [
    "# this is a helper function that takes time in seconds and\n",
    "# converts it into HH:MM:SS,sss format for the SRT subtitle files.\n",
    "\n",
    "def format_time_for_srt(seconds):\n",
    "    hours = math.floor(seconds / 3600)\n",
    "    seconds %= 3600\n",
    "    minutes = math.floor(seconds / 60)\n",
    "    seconds %= 60\n",
    "    miliseconds = round((seconds - math.floor(seconds)) * 1000)\n",
    "    seconds=math.floor(seconds)\n",
    "    formatted_time = f\"{hours :02d}:{minutes :02d}:{seconds :02d},{miliseconds :03d}\"\n",
    "\n",
    "    return formatted_time"
   ]
  },
  {
   "cell_type": "code",
   "execution_count": 12,
   "metadata": {},
   "outputs": [],
   "source": [
    "def generate_subtitle_file(input_file, language, segments):\n",
    "    subtitle_file = f\"sub-{input_file}.{language}.srt\"\n",
    "    text = \"\"\n",
    "    for index, segment in enumerate(segments):\n",
    "        segment_start = format_time_for_srt(segment.start)\n",
    "        segment_end = format_time_for_srt(segment.end)\n",
    "\n",
    "        text += f\"{str(index + 1)}\\n\"\n",
    "        text += f\"{segment_start} --> {segment_end}\\n\"\n",
    "        text += f\"{segment.text}\\n\\n\"\n",
    "\n",
    "    # UTF-8 인코딩으로 파일을 열기\n",
    "    with open(subtitle_file, 'w', encoding='utf-8') as f:\n",
    "        f.write(text)\n",
    "\n",
    "    return subtitle_file"
   ]
  },
  {
   "cell_type": "code",
   "execution_count": 13,
   "metadata": {},
   "outputs": [],
   "source": [
    "subtitle_file = generate_subtitle_file(unique_id, language, segments)"
   ]
  },
  {
   "cell_type": "code",
   "execution_count": 14,
   "metadata": {},
   "outputs": [],
   "source": [
    "def add_subtitle_to_video(input_file, subtitle_file, subtitle_language):\n",
    "    video_input_stream = ffmpeg.input(input_file)\n",
    "    subtitle_input_stream = ffmpeg.input(subtitle_file)\n",
    "    output_video = f\"output-{input_file}-{subtitle_language}.mp4\"\n",
    "    subtitle_track_title = subtitle_file.replace(\".srt\", \"\")\n",
    "    stream = ffmpeg.output(video_input_stream, output_video,\n",
    "                           vf = f\"subtitles='{subtitle_file}'\")\n",
    "    ffmpeg.run(stream, overwrite_output=True)"
   ]
  },
  {
   "cell_type": "code",
   "execution_count": 15,
   "metadata": {},
   "outputs": [],
   "source": [
    "add_subtitle_to_video(unique_id, subtitle_file, language)"
   ]
  },
  {
   "cell_type": "code",
   "execution_count": 16,
   "metadata": {},
   "outputs": [],
   "source": [
    "os.remove(f\"audio-{unique_id}.wav\")\n",
    "os.remove(f\"sub-{unique_id}.{language}.srt\")\n",
    "os.remove(f\"{unique_id}\")"
   ]
  },
  {
   "cell_type": "code",
   "execution_count": null,
   "metadata": {},
   "outputs": [],
   "source": []
  }
 ],
 "metadata": {
  "kernelspec": {
   "display_name": ".venv",
   "language": "python",
   "name": "python3"
  },
  "language_info": {
   "codemirror_mode": {
    "name": "ipython",
    "version": 3
   },
   "file_extension": ".py",
   "mimetype": "text/x-python",
   "name": "python",
   "nbconvert_exporter": "python",
   "pygments_lexer": "ipython3",
   "version": "3.10.11"
  }
 },
 "nbformat": 4,
 "nbformat_minor": 2
}
