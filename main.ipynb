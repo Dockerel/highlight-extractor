{
 "cells": [
  {
   "cell_type": "code",
   "execution_count": 120,
   "metadata": {},
   "outputs": [],
   "source": [
    "import os\n",
    "from pytubefix import YouTube\n",
    "from pytubefix.cli import on_progress"
   ]
  },
  {
   "cell_type": "code",
   "execution_count": 121,
   "metadata": {},
   "outputs": [
    {
     "name": "stdout",
     "output_type": "stream",
     "text": [
      "조림왕 최강록\n",
      " ↳ |████████████████████████████████████████████| 100.0%\r"
     ]
    },
    {
     "data": {
      "text/plain": [
       "'c:\\\\Users\\\\dgh00\\\\OneDrive\\\\바탕 화면\\\\whisper\\\\조림왕 최강록.mp4'"
      ]
     },
     "execution_count": 121,
     "metadata": {},
     "output_type": "execute_result"
    }
   ],
   "source": [
    "url = \"https://www.youtube.com/shorts/Ta6HEAFXK3k\"\n",
    "\n",
    "yt = YouTube(url, on_progress_callback = on_progress)\n",
    "print(yt.title)\n",
    " \n",
    "ys = yt.streams.get_highest_resolution()\n",
    "ys.download()"
   ]
  },
  {
   "cell_type": "code",
   "execution_count": 122,
   "metadata": {},
   "outputs": [
    {
     "name": "stdout",
     "output_type": "stream",
     "text": [
      "title: 조림왕 최강록\n",
      "views : 6030400\n",
      "description: #shorts #최강록 #강레오 #마스터셰프코리아\n",
      "length: 50\n"
     ]
    }
   ],
   "source": [
    "print(f\"title: {yt.title}\")\n",
    "print(f\"views : {yt.views}\")\n",
    "print(f\"description: {yt.description}\")\n",
    "print(f\"length: {yt.length}\")"
   ]
  },
  {
   "cell_type": "code",
   "execution_count": 123,
   "metadata": {},
   "outputs": [],
   "source": [
    "# rename the mp4 to the title of the video without a file extension\n",
    "os.rename(yt.title + \".mp4\", yt.title)"
   ]
  },
  {
   "cell_type": "code",
   "execution_count": 124,
   "metadata": {},
   "outputs": [],
   "source": [
    "# extract audio from the video\n",
    "import time\n",
    "import math\n",
    "import ffmpeg\n",
    "\n",
    "def extract_audio(input_file):\n",
    "    extracted_audio = f\"audio-{input_file}.wav\"\n",
    "    stream = ffmpeg.input(input_file)\n",
    "    stream = ffmpeg.output(stream, extracted_audio)\n",
    "    ffmpeg.run(stream, overwrite_output=True)\n",
    "    return extracted_audio"
   ]
  },
  {
   "cell_type": "code",
   "execution_count": 125,
   "metadata": {},
   "outputs": [],
   "source": [
    "audio_extract = extract_audio(yt.title)"
   ]
  },
  {
   "cell_type": "code",
   "execution_count": 126,
   "metadata": {},
   "outputs": [],
   "source": [
    "# transcribe the audio\n",
    "from faster_whisper import WhisperModel\n",
    "def transcribe(audio):\n",
    "\n",
    "    model = WhisperModel(\"medium\", device=\"cpu\")\n",
    "    segments, info = model.transcribe(audio)\n",
    "    language = info[0]\n",
    "    print(f\"transcription language: {language}\")\n",
    "    segments = list(segments) # this is where the transcribe happens\n",
    "\n",
    "    for segment in segments:\n",
    "        print(\"[%.2fs -> %.2fs] %s\" % (segment.start, segment.end, segment.text))\n",
    "\n",
    "    return language, segments"
   ]
  },
  {
   "cell_type": "code",
   "execution_count": 127,
   "metadata": {},
   "outputs": [
    {
     "name": "stdout",
     "output_type": "stream",
     "text": [
      "transcription language: ko\n",
      "[0.00s -> 1.88s]  최강록 씨 앞으로 나오세요.\n",
      "[2.24s -> 8.00s]  보통 이제 항정살을 많이 구워서 드시는 것 같은데요.\n",
      "[8.08s -> 11.76s]  졸여도 부드럽게 드실 수 있을 것 같아서요.\n",
      "[11.76s -> 16.48s]  한 가지는 간장으로 졸여보고 하나는 쌈장만 넣어서 했으면 좋겠습니다.\n",
      "[21.28s -> 24.68s]  강래호 심사위원님이 쏘는 눈빛.\n",
      "[25.16s -> 27.84s]  거기 마주치면 한 6개월씩 늘어요.\n",
      "[28.80s -> 30.36s]  진짜 늙어요.\n",
      "[30.36s -> 36.84s]  최강록 씨 오늘 최강록 씨한테 나는 재킬라고 하이드를 본 기분이에요.\n",
      "[36.92s -> 39.44s]  그 아이디어나 맛을 제일 좋은 걸로 가봤어요.\n",
      "[40.24s -> 46.74s]  미소 매칭 먹은 모시라콘은 절정적인 맛이었어요.\n",
      "[46.74s -> 49.24s]  정말 맛있는 항정살 조림이었습니다.\n",
      "[49.24s -> 50.24s]  수고하셨습니다.\n",
      "CPU times: total: 2min 56s\n",
      "Wall time: 48.4 s\n"
     ]
    }
   ],
   "source": [
    "%%time\n",
    "\n",
    "language, segments = transcribe(audio_extract)"
   ]
  },
  {
   "cell_type": "code",
   "execution_count": 128,
   "metadata": {},
   "outputs": [
    {
     "name": "stdout",
     "output_type": "stream",
     "text": [
      "[0.00s -> 1.88s]  최강록 씨 앞으로 나오세요.\n",
      "[2.24s -> 8.00s]  보통 이제 항정살을 많이 구워서 드시는 것 같은데요.\n",
      "[8.08s -> 11.76s]  졸여도 부드럽게 드실 수 있을 것 같아서요.\n",
      "[11.76s -> 16.48s]  한 가지는 간장으로 졸여보고 하나는 쌈장만 넣어서 했으면 좋겠습니다.\n",
      "[21.28s -> 24.68s]  강래호 심사위원님이 쏘는 눈빛.\n",
      "[25.16s -> 27.84s]  거기 마주치면 한 6개월씩 늘어요.\n",
      "[28.80s -> 30.36s]  진짜 늙어요.\n",
      "[30.36s -> 36.84s]  최강록 씨 오늘 최강록 씨한테 나는 재킬라고 하이드를 본 기분이에요.\n",
      "[36.92s -> 39.44s]  그 아이디어나 맛을 제일 좋은 걸로 가봤어요.\n",
      "[40.24s -> 46.74s]  미소 매칭 먹은 모시라콘은 절정적인 맛이었어요.\n",
      "[46.74s -> 49.24s]  정말 맛있는 항정살 조림이었습니다.\n",
      "[49.24s -> 50.24s]  수고하셨습니다.\n"
     ]
    }
   ],
   "source": [
    "for segment in segments:\n",
    "        print(\"[%.2fs -> %.2fs] %s\" % (segment.start, segment.end, segment.text))"
   ]
  },
  {
   "cell_type": "code",
   "execution_count": 129,
   "metadata": {},
   "outputs": [],
   "source": [
    "# SubRip(SRT)\n",
    "# Subtitle Index: 0, 1, 2\n",
    "# Timecode: Start and end markers. HH:MM:SS,sss format.\n",
    "# Text: The subtitle text."
   ]
  },
  {
   "cell_type": "code",
   "execution_count": 130,
   "metadata": {},
   "outputs": [],
   "source": [
    "# this is a helper function that takes time in seconds and\n",
    "# converts it into HH:MM:SS,sss format for the SRT subtitle files.\n",
    "\n",
    "def format_time_for_srt(seconds):\n",
    "    hours = math.floor(seconds / 3600)\n",
    "    seconds %= 3600\n",
    "    minutes = math.floor(seconds / 60)\n",
    "    seconds %= 60\n",
    "    miliseconds = round((seconds - math.floor(seconds)) * 1000)\n",
    "    seconds=math.floor(seconds)\n",
    "    formatted_time = f\"{hours :02d}:{minutes :02d}:{seconds :02d},{miliseconds :03d}\"\n",
    "\n",
    "    return formatted_time"
   ]
  },
  {
   "cell_type": "code",
   "execution_count": 131,
   "metadata": {},
   "outputs": [],
   "source": [
    "def generate_subtitle_file(input_file, language, segments):\n",
    "    subtitle_file = f\"sub-{input_file}.{language}.srt\"\n",
    "    text = \"\"\n",
    "    for index, segment in enumerate(segments):\n",
    "        segment_start = format_time_for_srt(segment.start)\n",
    "        segment_end = format_time_for_srt(segment.end)\n",
    "\n",
    "        text += f\"{str(index + 1)}\\n\"\n",
    "        text += f\"{segment_start} --> {segment_end}\\n\"\n",
    "        text += f\"{segment.text}\\n\\n\"\n",
    "\n",
    "    # UTF-8 인코딩으로 파일을 열기\n",
    "    with open(subtitle_file, 'w', encoding='utf-8') as f:\n",
    "        f.write(text)\n",
    "\n",
    "    return subtitle_file"
   ]
  },
  {
   "cell_type": "code",
   "execution_count": 132,
   "metadata": {},
   "outputs": [],
   "source": [
    "subtitle_file = generate_subtitle_file(yt.title, language, segments)"
   ]
  },
  {
   "cell_type": "code",
   "execution_count": 133,
   "metadata": {},
   "outputs": [],
   "source": [
    "def add_subtitle_to_video(input_file, subtitle_file, subtitle_language):\n",
    "    video_input_stream = ffmpeg.input(input_file)\n",
    "    subtitle_input_stream = ffmpeg.input(subtitle_file)\n",
    "    output_video = f\"output-{input_file}-{subtitle_language}.mp4\"\n",
    "    subtitle_track_title = subtitle_file.replace(\".srt\", \"\")\n",
    "    stream = ffmpeg.output(video_input_stream, output_video,\n",
    "                           vf = f\"subtitles='{subtitle_file}'\")\n",
    "    ffmpeg.run(stream, overwrite_output=True)"
   ]
  },
  {
   "cell_type": "code",
   "execution_count": 134,
   "metadata": {},
   "outputs": [],
   "source": [
    "add_subtitle_to_video(yt.title, subtitle_file, language)"
   ]
  },
  {
   "cell_type": "code",
   "execution_count": null,
   "metadata": {},
   "outputs": [],
   "source": []
  }
 ],
 "metadata": {
  "kernelspec": {
   "display_name": ".venv",
   "language": "python",
   "name": "python3"
  },
  "language_info": {
   "codemirror_mode": {
    "name": "ipython",
    "version": 3
   },
   "file_extension": ".py",
   "mimetype": "text/x-python",
   "name": "python",
   "nbconvert_exporter": "python",
   "pygments_lexer": "ipython3",
   "version": "3.10.11"
  }
 },
 "nbformat": 4,
 "nbformat_minor": 2
}
